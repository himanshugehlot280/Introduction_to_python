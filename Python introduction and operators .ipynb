{
 "cells": [
  {
   "cell_type": "markdown",
   "id": "a812938f",
   "metadata": {},
   "source": [
    "# Python introduction \n",
    "\n",
    "Python is an interpreated language \n",
    "Python is an object orieanted language. \n",
    "Python is high level language with dynamic semantics \n",
    "Python are work in various fields such as data science, machine learning, internet of things, web development. \n",
    "Python is platform independent language. \n",
    "Python consist various libraries like math, numpy, pandas, matplotlib, and many more \n",
    "In python various built in function is defined for example input(), max(), min() and etc. \n",
    "python support dynamic memory allocation.\n"
   ]
  },
  {
   "cell_type": "markdown",
   "id": "a61f20c4",
   "metadata": {},
   "source": [
    "# print function"
   ]
  },
  {
   "cell_type": "code",
   "execution_count": 3,
   "id": "3fa0b174",
   "metadata": {},
   "outputs": [
    {
     "name": "stdout",
     "output_type": "stream",
     "text": [
      "Welcome to python introduction !!!!!!!\n",
      "3000\n"
     ]
    }
   ],
   "source": [
    "#string print using print function\n",
    "\n",
    "print('Welcome to python introduction !!!!!!!') \n",
    "\n",
    "#integer print using print function\n",
    "\n",
    "print(3000) "
   ]
  },
  {
   "cell_type": "markdown",
   "id": "9de17788",
   "metadata": {},
   "source": [
    "# Type function"
   ]
  },
  {
   "cell_type": "code",
   "execution_count": 26,
   "id": "2247ffa9",
   "metadata": {},
   "outputs": [
    {
     "name": "stdout",
     "output_type": "stream",
     "text": [
      "<class 'int'>\n",
      "<class 'float'>\n",
      "<class 'str'>\n",
      "<class 'list'>\n",
      "<class 'tuple'>\n",
      "<class 'dict'>\n",
      "<class 'complex'>\n"
     ]
    }
   ],
   "source": [
    "A = 3000\n",
    "print(type(A))\n",
    "\n",
    "B = 33.33\n",
    "print(type(B))\n",
    "\n",
    "C = 'Type function'\n",
    "print(type(C))\n",
    "\n",
    "D = []\n",
    "print(type(D))\n",
    "\n",
    "E = ()\n",
    "print(type(E))\n",
    "\n",
    "F = {}\n",
    "print(type(F))\n",
    "\n",
    "# G= 2 + 3b ------------------error------------\n",
    "# print(type(G)) -------------error--------------\n",
    "\n",
    "H = 1 + 2j\n",
    "print(type(H))"
   ]
  },
  {
   "cell_type": "markdown",
   "id": "f3c290e1",
   "metadata": {},
   "source": [
    "#  Conversion of string to integer and vice versa"
   ]
  },
  {
   "cell_type": "code",
   "execution_count": 31,
   "id": "066a4812",
   "metadata": {},
   "outputs": [
    {
     "name": "stdout",
     "output_type": "stream",
     "text": [
      "10\n",
      "<class 'str'>\n",
      "10\n",
      "<class 'int'>\n",
      "10\n",
      "<class 'str'>\n",
      "string\n",
      "<class 'str'>\n"
     ]
    },
    {
     "ename": "ValueError",
     "evalue": "invalid literal for int() with base 10: 'string'",
     "output_type": "error",
     "traceback": [
      "\u001b[1;31m---------------------------------------------------------------------------\u001b[0m",
      "\u001b[1;31mValueError\u001b[0m                                Traceback (most recent call last)",
      "Input \u001b[1;32mIn [31]\u001b[0m, in \u001b[0;36m<cell line: 17>\u001b[1;34m()\u001b[0m\n\u001b[0;32m     14\u001b[0m \u001b[38;5;28mprint\u001b[39m(j) \n\u001b[0;32m     15\u001b[0m \u001b[38;5;28mprint\u001b[39m(\u001b[38;5;28mtype\u001b[39m(j)) \n\u001b[1;32m---> 17\u001b[0m v \u001b[38;5;241m=\u001b[39m \u001b[38;5;28;43mint\u001b[39;49m\u001b[43m(\u001b[49m\u001b[43mj\u001b[49m\u001b[43m)\u001b[49m \n\u001b[0;32m     18\u001b[0m \u001b[38;5;28mprint\u001b[39m(v) \n\u001b[0;32m     19\u001b[0m \u001b[38;5;28mprint\u001b[39m(\u001b[38;5;28mtype\u001b[39m(v))\n",
      "\u001b[1;31mValueError\u001b[0m: invalid literal for int() with base 10: 'string'"
     ]
    }
   ],
   "source": [
    "A = '10' \n",
    "print(A) \n",
    "print(type(A))   \n",
    " \n",
    "i = int(A) \n",
    "print(i) \n",
    "print(type(i)) \n",
    "  \n",
    "B = str(i) \n",
    "print(B) \n",
    "print(type(B))\n",
    " \n",
    "    \n",
    "j = 'string' \n",
    "print(j) \n",
    "print(type(j)) \n",
    " #--------------------error statment---------vice versa--------------------------\n",
    "v = int(j) \n",
    "print(v) \n",
    "print(type(v))"
   ]
  },
  {
   "cell_type": "markdown",
   "id": "9b332e64",
   "metadata": {},
   "source": [
    "# Memory allocation in variabe and then print them \n",
    "\n",
    "Python supports dynamic memory allocation \n",
    "dynamic memory allocation ------ run time \n",
    "we don't have to define varibale type"
   ]
  },
  {
   "cell_type": "code",
   "execution_count": 33,
   "id": "2337ed2d",
   "metadata": {},
   "outputs": [
    {
     "name": "stdout",
     "output_type": "stream",
     "text": [
      "value of a is 45 value of b is 90.67 value of c is string\n",
      "a = 45\n",
      "b = 90.67\n",
      "c = string\n"
     ]
    }
   ],
   "source": [
    "a = 45 \n",
    "b = 90.67 \n",
    "c = 'string' \n",
    "\n",
    "print('value of a is',a, 'value of b is', b, 'value of c is', c) \n",
    "print('a =',a) \n",
    "print('b =',b) \n",
    "print('c =',c)"
   ]
  },
  {
   "cell_type": "markdown",
   "id": "067ca067",
   "metadata": {},
   "source": [
    "# Comments in python (# and '''------''') \n",
    " \n",
    "Python support two types of comments \n",
    "1) single line comment (#) \n",
    "2) multi line comment ('''  \n",
    "                           ''') \n",
    "                           "
   ]
  },
  {
   "cell_type": "code",
   "execution_count": 37,
   "id": "8b303ab9",
   "metadata": {},
   "outputs": [
    {
     "data": {
      "text/plain": [
       "'Python are work in various fields such as data science, machine learning, internet of things, web development. \\nPython is platform independent language. \\nPython consist various libraries like math, numpy, pandas, matplotlib, and many more \\nIn python various built in function is defined for example input(), max(), min() and etc. \\npython support dynamic memory allocation.'"
      ]
     },
     "execution_count": 37,
     "metadata": {},
     "output_type": "execute_result"
    }
   ],
   "source": [
    "#Python is an interpreated language \n",
    "#Python is an object orieanted language. \n",
    "#Python is high level language with dynamic semantics \n",
    "\n",
    "\"\"\"Python are work in various fields such as data science, machine learning, internet of things, web development. \n",
    "Python is platform independent language. \n",
    "Python consist various libraries like math, numpy, pandas, matplotlib, and many more \n",
    "In python various built in function is defined for example input(), max(), min() and etc. \n",
    "python support dynamic memory allocation.\"\"\""
   ]
  },
  {
   "cell_type": "markdown",
   "id": "444a2887",
   "metadata": {},
   "source": [
    "# Operators in python \n",
    "\n",
    "1) Arithmetic operators\n",
    "2) Assignment operators\n",
    "3) Comparison operators\n",
    "4) Logical operators\n",
    "5) Identity operators\n",
    "6) Membership operators\n",
    "7) Bitwise operators\n"
   ]
  },
  {
   "cell_type": "markdown",
   "id": "7e1a96da",
   "metadata": {},
   "source": [
    "# Arithmetic Operator \n",
    " \n",
    "Arithmetic operators are used with numeric value to perform common mathematical operations\n",
    "\n",
    "+\n",
    "-\n",
    "*\n",
    "/\n",
    "//\n",
    "%"
   ]
  },
  {
   "cell_type": "code",
   "execution_count": 39,
   "id": "99d717dd",
   "metadata": {},
   "outputs": [
    {
     "name": "stdout",
     "output_type": "stream",
     "text": [
      "12\n",
      "8\n",
      "20\n",
      "5.0\n",
      "5\n",
      "0\n",
      "--------------------------------\n",
      "13\n",
      "7\n",
      "30\n",
      "3.3333333333333335\n",
      "3\n",
      "1\n"
     ]
    }
   ],
   "source": [
    "a = 10 \n",
    "b = 2 \n",
    "print(a+b)\n",
    "print(a-b)\n",
    "print(a*b)\n",
    "print(a/b)\n",
    "print(a//b)\n",
    "print(a%b) \n",
    "print('--------------------------------') \n",
    "a = 10 \n",
    "b = 3 \n",
    "print(a+b)\n",
    "print(a-b)\n",
    "print(a*b)\n",
    "print(a/b)\n",
    "print(a//b)\n",
    "print(a%b)    "
   ]
  },
  {
   "cell_type": "markdown",
   "id": "b0d2c325",
   "metadata": {},
   "source": [
    "# Print no in reverse using arithmetic operators \n",
    " \n",
    "num%10 :- it will return last digit of number\n",
    " \n",
    "num//10 :- it will remove last digit from number \n"
   ]
  },
  {
   "cell_type": "code",
   "execution_count": 45,
   "id": "7d3199f5",
   "metadata": {},
   "outputs": [
    {
     "name": "stdout",
     "output_type": "stream",
     "text": [
      "3\n",
      "2\n",
      "1\n"
     ]
    }
   ],
   "source": [
    "a = 123 \n",
    "r = a%10  \n",
    "print(r)\n",
    "a = a//10 \n",
    "r = a%10 \n",
    "print(r)  \n",
    "a = a//10 \n",
    "r = a%10 \n",
    "print(r)\n",
    "\n"
   ]
  },
  {
   "cell_type": "markdown",
   "id": "1ffaec75",
   "metadata": {},
   "source": [
    "# 10% discount in bill logic using arithmetic operators \n",
    "\n",
    "10/100 = 0.1 or 1/10 "
   ]
  },
  {
   "cell_type": "code",
   "execution_count": 49,
   "id": "21bcb992",
   "metadata": {},
   "outputs": [
    {
     "name": "stdout",
     "output_type": "stream",
     "text": [
      "product prince   500\n",
      "10% discount    50.0\n",
      "total amount   450.0\n"
     ]
    }
   ],
   "source": [
    "a = 500 \n",
    "d = a * 0.1 \n",
    "print('product prince  ', a)\n",
    "print('10% discount   ',  d) \n",
    "print('total amount  ', a-d)\n"
   ]
  },
  {
   "cell_type": "markdown",
   "id": "05aab5cd",
   "metadata": {},
   "source": [
    "# Assignment Operators \n",
    "\n",
    "assignment operators are used to assign values to variable \n",
    "+= \n",
    "-= \n",
    "*= \n",
    "/=\n",
    "//=\n",
    "%= \n",
    "**="
   ]
  },
  {
   "cell_type": "code",
   "execution_count": 62,
   "id": "da2ca6ed",
   "metadata": {},
   "outputs": [
    {
     "name": "stdout",
     "output_type": "stream",
     "text": [
      "20\n",
      "10\n",
      "1.0\n",
      "10.0\n",
      "1.0\n",
      "1.0\n",
      "1.0\n"
     ]
    }
   ],
   "source": [
    "a = 10 \n",
    "a += 10 \n",
    "print(a)\n",
    "\n",
    "a -= 10 \n",
    "print(a) \n",
    "\n",
    "a /= 10 \n",
    "print(a)\n",
    "\n",
    "a *= 10\n",
    "print(a)\n",
    "\n",
    "a //= 10 \n",
    "print(a)\n",
    "\n",
    "a %= 10 \n",
    "print(a)\n",
    "\n",
    "a **= 10 \n",
    "print(a)"
   ]
  },
  {
   "cell_type": "markdown",
   "id": "e28fff61",
   "metadata": {},
   "source": [
    "# Comparison Operators \n",
    "\n",
    "comparison operators are use to compare two values \n",
    "\n",
    "> \n",
    "< \n",
    ">= \n",
    "<= \n",
    "!= \n",
    "=="
   ]
  },
  {
   "cell_type": "code",
   "execution_count": 63,
   "id": "94245485",
   "metadata": {},
   "outputs": [
    {
     "name": "stdout",
     "output_type": "stream",
     "text": [
      "True\n",
      "False\n",
      "True\n",
      "False\n",
      "True\n",
      "False\n"
     ]
    }
   ],
   "source": [
    "a = 5 \n",
    "b = 3 \n",
    "\n",
    "print(a>b) \n",
    "print(a<b) \n",
    "print(a>=b) \n",
    "print(a<=b)\n",
    "print(a!=b) \n",
    "print(a==b)"
   ]
  },
  {
   "cell_type": "markdown",
   "id": "22415c89",
   "metadata": {},
   "source": [
    "# Logical Operators \n",
    "\n",
    "logical operators are used to combine conditional statment\n",
    "\n",
    "and :- return true if both statments are true \n",
    "or  :- return true if one or more than one statments is true \n",
    "not :- Reverse the result, returns False if the result is true\n"
   ]
  },
  {
   "cell_type": "markdown",
   "id": "1248ac13",
   "metadata": {},
   "source": [
    "# and operator truth table \n",
    "\n",
    "condition1   condition2   output \n",
    "    T             T          T \n",
    "    T             F          F \n",
    "    F             T          F \n",
    "    F             F          F "
   ]
  },
  {
   "cell_type": "code",
   "execution_count": 64,
   "id": "cc099df1",
   "metadata": {},
   "outputs": [
    {
     "name": "stdout",
     "output_type": "stream",
     "text": [
      "True\n",
      "True\n",
      "False\n",
      "True\n",
      "False\n"
     ]
    }
   ],
   "source": [
    "a = 50 \n",
    "print(a>0 and a<=100) \n",
    "print(a>0 and a<=100 and a == 50) \n",
    "print(a>0 and a<=100 and a == 10) \n",
    "print(a>0 and a<=100 and a == 50 and a%10 == 0)\n",
    "print(a>0 and a<=100 and a == 67 and a%10 == 0) "
   ]
  },
  {
   "cell_type": "markdown",
   "id": "9b0a26c0",
   "metadata": {},
   "source": [
    "# or operator truth table \n",
    "\n",
    "condition1   condition2   output \n",
    "    T             T          T \n",
    "    T             F          T \n",
    "    F             T          T \n",
    "    F             F          F "
   ]
  },
  {
   "cell_type": "code",
   "execution_count": 65,
   "id": "e8896906",
   "metadata": {},
   "outputs": [
    {
     "name": "stdout",
     "output_type": "stream",
     "text": [
      "True\n",
      "True\n",
      "True\n",
      "True\n",
      "True\n"
     ]
    }
   ],
   "source": [
    "a = 50 \n",
    "print(a>0 or a<=100) \n",
    "print(a>0 or a<=100 or a == 50) \n",
    "print(a>0 or a<=100 or a == 10) \n",
    "print(a>0 or a<=100 or a == 50 or a%10 == 0)\n",
    "print(a>0 or a<=100 or a == 67 or a%10 == 0) "
   ]
  },
  {
   "cell_type": "markdown",
   "id": "3a336f05",
   "metadata": {},
   "source": [
    "# not operator truth table \n",
    "\n",
    "condition     not(output)\n",
    "   T              F \n",
    "   F              T "
   ]
  },
  {
   "cell_type": "code",
   "execution_count": 66,
   "id": "ac60d2ab",
   "metadata": {},
   "outputs": [
    {
     "name": "stdout",
     "output_type": "stream",
     "text": [
      "False\n",
      "False\n",
      "False\n"
     ]
    }
   ],
   "source": [
    "a = 10 \n",
    "print(not a>0)\n",
    "print(not a>0 or a==50)\n",
    "print(not(a>0 or a==50))"
   ]
  },
  {
   "cell_type": "markdown",
   "id": "40aa7514",
   "metadata": {},
   "source": [
    "#  Identity operators \n",
    "\n",
    "Identity operators are used to compare the objects, not if they are equal, but if they are actually the same object, with the same memory location \n",
    " \n",
    "is :- Returns True if both variables are the same object. \n",
    "is not :- Returns True if both variables are not the same object."
   ]
  },
  {
   "cell_type": "code",
   "execution_count": 69,
   "id": "b1ab6141",
   "metadata": {},
   "outputs": [
    {
     "name": "stdout",
     "output_type": "stream",
     "text": [
      "working of is\n",
      "False\n",
      "False\n",
      "True\n",
      "True\n",
      "------------------\n",
      "working of is not\n",
      "True\n",
      "True\n",
      "False\n",
      "False\n"
     ]
    }
   ],
   "source": [
    "a = 'hello' \n",
    "b = 'hello' \n",
    "c = 'python'  \n",
    "a = d \n",
    "print('working of is')    \n",
    "print(a is b) \n",
    "print(a is c) \n",
    "print(a is a) \n",
    "print(a is d) \n",
    "print('------------------') \n",
    "print('working of is not')\n",
    "print(a is not b) \n",
    "print(a is not c) \n",
    "print(a is not a) \n",
    "print(a is not d) \n"
   ]
  },
  {
   "cell_type": "markdown",
   "id": "378fcf17",
   "metadata": {},
   "source": [
    "# Membership Operators \n",
    " \n",
    "Membership operators are used to test if a sequence is presented in an object. \n",
    "\n",
    "in :- Returns True if a sequence with the specified value is present in the object\n",
    "not in :- Returns True if a sequence with the specified value is not present in the object"
   ]
  },
  {
   "cell_type": "code",
   "execution_count": 78,
   "id": "3e355683",
   "metadata": {},
   "outputs": [
    {
     "name": "stdout",
     "output_type": "stream",
     "text": [
      "working of in\n",
      "True\n",
      "False\n",
      "False\n",
      "True\n",
      "True\n",
      "False\n",
      "-----------------------\n",
      "working of not in\n",
      "False\n",
      "True\n",
      "True\n",
      "False\n",
      "False\n",
      "True\n"
     ]
    }
   ],
   "source": [
    "a = 'hello' \n",
    "b = 'hello' \n",
    "c = 'python'  \n",
    "print('working of in')     \n",
    "print(b in a) \n",
    "print(c in a)\n",
    "print('b' in a) \n",
    "print('h' in a) \n",
    "print('o' in b) \n",
    "print('a' in b) \n",
    "print('-----------------------')  \n",
    "print('working of not in')\n",
    "print(b not in a) \n",
    "print(c not in b)\n",
    "print('b'  not in a) \n",
    "print('h'  not in a) \n",
    "print('o'  not in b) \n",
    "print('a'  not in b) "
   ]
  },
  {
   "cell_type": "code",
   "execution_count": null,
   "id": "80500ca4",
   "metadata": {},
   "outputs": [],
   "source": []
  }
 ],
 "metadata": {
  "kernelspec": {
   "display_name": "Python 3 (ipykernel)",
   "language": "python",
   "name": "python3"
  },
  "language_info": {
   "codemirror_mode": {
    "name": "ipython",
    "version": 3
   },
   "file_extension": ".py",
   "mimetype": "text/x-python",
   "name": "python",
   "nbconvert_exporter": "python",
   "pygments_lexer": "ipython3",
   "version": "3.9.12"
  }
 },
 "nbformat": 4,
 "nbformat_minor": 5
}
